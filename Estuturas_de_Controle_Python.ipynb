{
  "nbformat": 4,
  "nbformat_minor": 0,
  "metadata": {
    "colab": {
      "provenance": [],
      "authorship_tag": "ABX9TyOp3qriFURbhuh2lzyAI+3C",
      "include_colab_link": true
    },
    "kernelspec": {
      "name": "python3",
      "display_name": "Python 3"
    },
    "language_info": {
      "name": "python"
    }
  },
  "cells": [
    {
      "cell_type": "markdown",
      "metadata": {
        "id": "view-in-github",
        "colab_type": "text"
      },
      "source": [
        "<a href=\"https://colab.research.google.com/github/ssophai/aulas-python/blob/main/Estuturas_de_Controle_Python.ipynb\" target=\"_parent\"><img src=\"https://colab.research.google.com/assets/colab-badge.svg\" alt=\"Open In Colab\"/></a>"
      ]
    },
    {
      "cell_type": "markdown",
      "source": [
        "##Revisão"
      ],
      "metadata": {
        "id": "f_viHNPbJVMG"
      }
    },
    {
      "cell_type": "code",
      "source": [
        "num1 = float(input('Insira um número: '))\n",
        "num2 = float(input('Insira outro número: '))\n",
        "\n",
        "print(num1 + num2)\n",
        "print(num1 - num2)\n",
        "print(num1 * num2)\n",
        "print(num1 / num2)\n",
        "print(num1 % num2)"
      ],
      "metadata": {
        "colab": {
          "base_uri": "https://localhost:8080/"
        },
        "id": "_9CbSNZULDvk",
        "outputId": "3b0ff05e-59d9-4cc0-fe74-5ec9293fd337"
      },
      "execution_count": 3,
      "outputs": [
        {
          "output_type": "stream",
          "name": "stdout",
          "text": [
            "Insira um número: 10\n",
            "Insira outro número: 20\n",
            "30.0\n",
            "-10.0\n",
            "200.0\n",
            "0.5\n",
            "10.0\n"
          ]
        }
      ]
    },
    {
      "cell_type": "code",
      "source": [
        "#IMC = peso / altura ** 2\n",
        "\n",
        "peso = float(input('Insira o seu peso: '))\n",
        "altura = float(input('Insira a sua altura: '))\n",
        "\n",
        "IMC = peso / altura**2\n",
        "print(round(IMC, 2)) #ou print(f\"{IMC: .2}\")"
      ],
      "metadata": {
        "colab": {
          "base_uri": "https://localhost:8080/"
        },
        "id": "UEumCAVbLhEp",
        "outputId": "6e54d4cd-94f8-4a04-c018-d599b7118ee3"
      },
      "execution_count": 8,
      "outputs": [
        {
          "output_type": "stream",
          "name": "stdout",
          "text": [
            "Insira o seu peso: 58\n",
            "Insira a sua altura: 1.60\n",
            "22.66\n"
          ]
        }
      ]
    },
    {
      "cell_type": "code",
      "source": [
        "nome = input('Coloque o nome: ')\n",
        "rua = input('Nome da rua: ')\n",
        "número = input('Número: ')\n",
        "bairro = input('Bairro: ')\n",
        "cidade = input('Cidade: ')\n",
        "CEP = input('CEP - apenas números: ')\n",
        "\n",
        "print(f\"{nome}, residente à rua {rua}, {número}, {bairro}, {cidade}, {CEP}\")"
      ],
      "metadata": {
        "colab": {
          "base_uri": "https://localhost:8080/"
        },
        "id": "IuZIiXf2Ohv7",
        "outputId": "f30d09e3-1277-4321-f223-3a8ca7b2c60f"
      },
      "execution_count": 16,
      "outputs": [
        {
          "output_type": "stream",
          "name": "stdout",
          "text": [
            "Coloque o nome: Sophia\n",
            "Nome da rua: Elvira Cavalcante da Silva\n",
            "Número: 67\n",
            "Bairro: Bancários\n",
            "Cidade: João Pessoa\n",
            "CEP - apenas números: 58052190\n",
            "Sophia, residente à rua Elvira Cavalcante da Silva, 67, Bancários, João Pessoa, 58052190\n"
          ]
        }
      ]
    },
    {
      "cell_type": "code",
      "source": [
        "temperatura = float(input('Coloque a temperatura - em graus celsius: '))\n",
        "temperatura2 = (temperatura * 9/5) + 32\n",
        "\n",
        "print(temperatura2)"
      ],
      "metadata": {
        "colab": {
          "base_uri": "https://localhost:8080/"
        },
        "id": "813uLe1nQAyM",
        "outputId": "bf08d00b-8520-46eb-c401-ebf2ac729cd7"
      },
      "execution_count": 13,
      "outputs": [
        {
          "output_type": "stream",
          "name": "stdout",
          "text": [
            "Coloque a temperatura - em graus celsius: 20\n",
            "68.0\n"
          ]
        }
      ]
    },
    {
      "cell_type": "markdown",
      "source": [
        "##Estruturas de Controle IF ELSE ELIF"
      ],
      "metadata": {
        "id": "qIdVxcyHTgaP"
      }
    },
    {
      "cell_type": "markdown",
      "source": [
        "Uso básico if"
      ],
      "metadata": {
        "id": "dQ3dgE0FTmtf"
      }
    },
    {
      "cell_type": "code",
      "source": [
        "#Recebe a idade do usuário e informa se é adulto(+18)\n",
        "\n",
        "idade = 16\n",
        "\n",
        "if idade >= 18:\n",
        "  print('Maior de idade!')"
      ],
      "metadata": {
        "id": "Sqg4KejSTrdf"
      },
      "execution_count": 18,
      "outputs": []
    },
    {
      "cell_type": "markdown",
      "source": [
        "Trabalhando com múltiplas condições ELIF"
      ],
      "metadata": {
        "id": "WRvKHgCtV90_"
      }
    },
    {
      "cell_type": "code",
      "source": [
        "#Recebe a idade do usuário e indorma se o Idoso é (+60), meia idade(+35), adulto(+18), menor de idade(-18)\n",
        "idade = 52\n",
        "\n",
        "if idade >= 60:\n",
        "  print('É idoso!')\n",
        "elif idade >= 35:\n",
        "  print('Meia idade!')\n",
        "elif idade >= 18:\n",
        "  print('Adulto!')\n",
        "else:\n",
        "  print('Tu sói de menó!')"
      ],
      "metadata": {
        "colab": {
          "base_uri": "https://localhost:8080/"
        },
        "id": "R3QCJOOKWEv_",
        "outputId": "c095b65a-1a13-4abe-9b44-c29446cf5f8d"
      },
      "execution_count": 17,
      "outputs": [
        {
          "output_type": "stream",
          "name": "stdout",
          "text": [
            "Meia idade!\n"
          ]
        }
      ]
    },
    {
      "cell_type": "code",
      "source": [
        "valor = float(input('Coloque o vaor da sua compra: '))\n",
        "\n",
        "if valor <= 100:\n",
        "  print('Sem desconto!')\n",
        "elif valor <= 500:\n",
        "  print(valor * 0.1)\n",
        "elif valor <= 1000:\n",
        "  print(valor * 0.2)\n",
        "else:\n",
        "  print(valor * 0.3)"
      ],
      "metadata": {
        "colab": {
          "base_uri": "https://localhost:8080/"
        },
        "id": "bEZCSJ70ZaJx",
        "outputId": "1c270532-50e4-47e4-f3d3-18a3020354db"
      },
      "execution_count": 33,
      "outputs": [
        {
          "output_type": "stream",
          "name": "stdout",
          "text": [
            "Coloque o vaor da sua compra: 5000\n",
            "1500.0\n"
          ]
        }
      ]
    },
    {
      "cell_type": "code",
      "source": [
        "idade = 20\n",
        "temCNH = True\n",
        "\n",
        "if idade > 18:\n",
        "   if temCNH:\n",
        "     print('Pode dirigir!')\n",
        "   else:\n",
        "     print('Sem habilitação, não pode dirigir!')\n",
        "else:\n",
        "  print('Menos de idade não pode dirigir!')"
      ],
      "metadata": {
        "colab": {
          "base_uri": "https://localhost:8080/"
        },
        "id": "1-ZOR6r9eqhk",
        "outputId": "6a54bba8-fc05-4930-f773-0e581ec37236"
      },
      "execution_count": 31,
      "outputs": [
        {
          "output_type": "stream",
          "name": "stdout",
          "text": [
            "Pode dirigir!\n"
          ]
        }
      ]
    }
  ]
}