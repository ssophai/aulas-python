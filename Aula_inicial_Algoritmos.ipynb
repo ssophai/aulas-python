{
  "nbformat": 4,
  "nbformat_minor": 0,
  "metadata": {
    "colab": {
      "provenance": [],
      "toc_visible": true,
      "authorship_tag": "ABX9TyO3ZWhPfgKaDjahmMrD18iE",
      "include_colab_link": true
    },
    "kernelspec": {
      "name": "python3",
      "display_name": "Python 3"
    },
    "language_info": {
      "name": "python"
    }
  },
  "cells": [
    {
      "cell_type": "markdown",
      "metadata": {
        "id": "view-in-github",
        "colab_type": "text"
      },
      "source": [
        "<a href=\"https://colab.research.google.com/github/ssophai/aulas-python/blob/main/Aula_inicial_Algoritmos.ipynb\" target=\"_parent\"><img src=\"https://colab.research.google.com/assets/colab-badge.svg\" alt=\"Open In Colab\"/></a>"
      ]
    },
    {
      "cell_type": "markdown",
      "source": [
        "## aula programação - variáveis"
      ],
      "metadata": {
        "id": "kX14fVz-MXZa"
      }
    },
    {
      "cell_type": "code",
      "source": [
        "print('Olá, pessoas!') #Imprimir texto\n",
        "print(8+10) #Imprimir operação matemática\n",
        "print(8,'10') #Concatenando texto e número"
      ],
      "metadata": {
        "colab": {
          "base_uri": "https://localhost:8080/"
        },
        "id": "rrYAR_nDMqbp",
        "outputId": "a8bc2d92-4ca5-4d78-c316-4bc983420252"
      },
      "execution_count": null,
      "outputs": [
        {
          "output_type": "stream",
          "name": "stdout",
          "text": [
            "Olá, pessoas!\n",
            "18\n",
            "8 10\n"
          ]
        }
      ]
    },
    {
      "cell_type": "code",
      "source": [
        "#Sabendo que os operadores de código são\n",
        "# + - / *\n",
        "#Imprima um exemplo de cada operação.\n",
        "print(5 + 4)\n",
        "print(5 - 4)\n",
        "print(5 / 4)\n",
        "print(5 * 4)"
      ],
      "metadata": {
        "colab": {
          "base_uri": "https://localhost:8080/"
        },
        "id": "c9B9Ml1jOKSa",
        "outputId": "3eb2a01a-287b-41b3-c9f7-f018b82d0ea4"
      },
      "execution_count": null,
      "outputs": [
        {
          "output_type": "stream",
          "name": "stdout",
          "text": [
            "9\n",
            "1\n",
            "1.25\n",
            "20\n"
          ]
        }
      ]
    },
    {
      "cell_type": "code",
      "source": [
        "#Tipos de dados - variáveis\n",
        "print (type (5)) #inteiros\n",
        "print (type (2.0)) #pontos flutuantes (ou float)\n",
        "print (type ('maçã')) #strings (cadeias de caracteres)\n",
        "print (type (5 > 20)) #booleanos (bool) - verificação lógica"
      ],
      "metadata": {
        "colab": {
          "base_uri": "https://localhost:8080/"
        },
        "id": "54dDmmphPQGN",
        "outputId": "62ccaa85-d505-45ac-8ae5-2437975ca5a2"
      },
      "execution_count": null,
      "outputs": [
        {
          "output_type": "stream",
          "name": "stdout",
          "text": [
            "<class 'int'>\n",
            "<class 'float'>\n",
            "<class 'str'>\n",
            "<class 'bool'>\n"
          ]
        }
      ]
    },
    {
      "cell_type": "markdown",
      "source": [
        "## variáveis"
      ],
      "metadata": {
        "id": "DnqYcmoUS4KP"
      }
    },
    {
      "cell_type": "code",
      "source": [
        "a = 42\n",
        "print(a)\n",
        "a = 35\n",
        "print (a)\n",
        "a = 'tapioca' #essa troca de tipo de dado, é devido a tipagem de python\n",
        "print(a)"
      ],
      "metadata": {
        "colab": {
          "base_uri": "https://localhost:8080/"
        },
        "id": "Ey8c-fGMS9h4",
        "outputId": "8b01f4e5-c5ca-441d-fa42-5bc27935ce74"
      },
      "execution_count": null,
      "outputs": [
        {
          "output_type": "stream",
          "name": "stdout",
          "text": [
            "42\n",
            "35\n",
            "tapioca\n"
          ]
        }
      ]
    },
    {
      "cell_type": "code",
      "source": [
        "a = 10\n",
        "b = 20\n",
        "#Façam as 4 operações matermáticas com a e b\n",
        "print(a + b)\n",
        "print(a - b)\n",
        "print(a / b)\n",
        "print(a * b)"
      ],
      "metadata": {
        "colab": {
          "base_uri": "https://localhost:8080/"
        },
        "id": "Ud3U0VeWUN-x",
        "outputId": "bc121315-d652-40ec-e749-eccb2e71be33"
      },
      "execution_count": 1,
      "outputs": [
        {
          "output_type": "stream",
          "name": "stdout",
          "text": [
            "30\n",
            "-10\n",
            "0.5\n",
            "200\n"
          ]
        }
      ]
    },
    {
      "cell_type": "code",
      "source": [
        "a = 25\n",
        "b = 33\n",
        "c = 12\n",
        "\n",
        "#Algumas epressões\n",
        "\n",
        "print (a + b / c)\n",
        "print ((a + b) / c)"
      ],
      "metadata": {
        "colab": {
          "base_uri": "https://localhost:8080/"
        },
        "id": "8qxZHLhGVrKA",
        "outputId": "8fa4768a-6531-4298-ae99-88cdc5c31de1"
      },
      "execution_count": null,
      "outputs": [
        {
          "output_type": "stream",
          "name": "stdout",
          "text": [
            "27.75\n",
            "4.833333333333333\n"
          ]
        }
      ]
    },
    {
      "cell_type": "code",
      "source": [
        "#Crie 3 variáveis para receber as notas de um aluno\n",
        "#o algoritmo deve retornar a nota do aluno\n",
        "\n",
        "nota1 = 90 #entrada\n",
        "nota2 = 80 #entrada\n",
        "nota3 = 100 #entrada\n",
        "\n",
        "média = (nota1 + nota2 + nota3) / 3 #processamento\n",
        "\n",
        "print(média) #saída"
      ],
      "metadata": {
        "colab": {
          "base_uri": "https://localhost:8080/"
        },
        "id": "QOIo3zV9WXxd",
        "outputId": "7ee123dc-b8a1-4c53-ffc0-def17fa413ff"
      },
      "execution_count": null,
      "outputs": [
        {
          "output_type": "stream",
          "name": "stdout",
          "text": [
            "90.0\n"
          ]
        }
      ]
    },
    {
      "cell_type": "code",
      "source": [
        "#entrada de dados\n",
        "\n",
        "nome = input('Digite seu nome: ')\n",
        "\n",
        "print('Olá, ' + nome)"
      ],
      "metadata": {
        "colab": {
          "base_uri": "https://localhost:8080/"
        },
        "id": "9fZ_NvRDYXCm",
        "outputId": "aca27ab3-38b5-401c-ea20-f41c15363159"
      },
      "execution_count": null,
      "outputs": [
        {
          "output_type": "stream",
          "name": "stdout",
          "text": [
            "Digite seu nome: sosô\n",
            "Olá, sosô\n"
          ]
        }
      ]
    },
    {
      "cell_type": "code",
      "source": [
        "#recebe a idade de uma pessoa e multiplica por 3\n",
        "\n",
        "recebe = idade\n",
        "\n",
        "idade = int(input('Digite sua idade: '))\n",
        "\n",
        "print(idade * 3)"
      ],
      "metadata": {
        "colab": {
          "base_uri": "https://localhost:8080/"
        },
        "id": "_iSV2uFIZPgM",
        "outputId": "f927185c-16c1-45ad-d710-6b45b028598b"
      },
      "execution_count": null,
      "outputs": [
        {
          "output_type": "stream",
          "name": "stdout",
          "text": [
            "Digite sua idade: 18\n",
            "54\n"
          ]
        }
      ]
    },
    {
      "cell_type": "code",
      "source": [
        "#recebe o raio de um circulo e calcula sua área\n",
        "#área = pi vezes o raio ao quadrado\n",
        "\n",
        "raio  = int(input('Digite o raio do cículo: '))\n",
        "\n",
        "area = 3.14 * (raio * raio) #quando for um número decimal, coloca-se \".\"\n",
        "\n",
        "print(area)"
      ],
      "metadata": {
        "colab": {
          "base_uri": "https://localhost:8080/"
        },
        "id": "5160ryNxamih",
        "outputId": "c3a3534f-9347-4b39-909e-f8162036cd14"
      },
      "execution_count": null,
      "outputs": [
        {
          "output_type": "stream",
          "name": "stdout",
          "text": [
            "Digite o raio do cículo: 2\n",
            "12.56\n"
          ]
        }
      ]
    },
    {
      "cell_type": "code",
      "source": [
        "#reafatoração - reescrever o código para que fique mais otimizado\n",
        "import math\n",
        "\n",
        "raio  = int(input('Digite o raio do cículo: '))\n",
        "area = math.pi * (raio ** 2)\n",
        "\n",
        "print(area)"
      ],
      "metadata": {
        "colab": {
          "base_uri": "https://localhost:8080/"
        },
        "id": "pg25LPjIc5kK",
        "outputId": "0063f5bd-8965-489a-a866-8f914c4717b8"
      },
      "execution_count": null,
      "outputs": [
        {
          "output_type": "stream",
          "name": "stdout",
          "text": [
            "Digite o raio do cículo: 2\n",
            "12.566370614359172\n"
          ]
        }
      ]
    },
    {
      "cell_type": "code",
      "source": [
        "#reafatoração - reescrever o código para que fique mais otimizado - pt.2\n",
        "import math\n",
        "\n",
        "raio  = int(input('Digite o raio do cículo: '))\n",
        "area = math.pi * (raio ** 2)\n",
        "\n",
        "print(f\"{area: .2f}\") #indica quantas casas decimais serão usadas"
      ],
      "metadata": {
        "colab": {
          "base_uri": "https://localhost:8080/"
        },
        "id": "D5nVyJu5dqXh",
        "outputId": "cd815ad3-00b2-47cd-cb21-7a43529f3191"
      },
      "execution_count": null,
      "outputs": [
        {
          "output_type": "stream",
          "name": "stdout",
          "text": [
            "Digite o raio do cículo: 2\n",
            " 12.57\n"
          ]
        }
      ]
    }
  ]
}