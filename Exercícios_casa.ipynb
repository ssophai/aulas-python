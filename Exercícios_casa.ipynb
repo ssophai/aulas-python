{
  "nbformat": 4,
  "nbformat_minor": 0,
  "metadata": {
    "colab": {
      "provenance": [],
      "authorship_tag": "ABX9TyPsXcXsSxbkhRtMdas7BM71",
      "include_colab_link": true
    },
    "kernelspec": {
      "name": "python3",
      "display_name": "Python 3"
    },
    "language_info": {
      "name": "python"
    }
  },
  "cells": [
    {
      "cell_type": "markdown",
      "metadata": {
        "id": "view-in-github",
        "colab_type": "text"
      },
      "source": [
        "<a href=\"https://colab.research.google.com/github/ssophai/aulas-python/blob/main/Exerc%C3%ADcios_casa.ipynb\" target=\"_parent\"><img src=\"https://colab.research.google.com/assets/colab-badge.svg\" alt=\"Open In Colab\"/></a>"
      ]
    },
    {
      "cell_type": "code",
      "execution_count": null,
      "metadata": {
        "id": "HCSmcbwvQyOI"
      },
      "outputs": [],
      "source": []
    },
    {
      "cell_type": "markdown",
      "source": [
        "#Exercícios"
      ],
      "metadata": {
        "id": "C_ZU2TgBQ2Ew"
      }
    },
    {
      "cell_type": "markdown",
      "source": [
        "nível 1"
      ],
      "metadata": {
        "id": "AS2Jx8aqSpaF"
      }
    },
    {
      "cell_type": "code",
      "source": [
        "print('O primeiro código de muitos!')"
      ],
      "metadata": {
        "colab": {
          "base_uri": "https://localhost:8080/"
        },
        "id": "r1MbFPC3Q6yp",
        "outputId": "f6535bd4-4de6-489b-bed7-cac0d4e8799b"
      },
      "execution_count": null,
      "outputs": [
        {
          "output_type": "stream",
          "name": "stdout",
          "text": [
            "O primeiro código de muitos!\n"
          ]
        }
      ]
    },
    {
      "cell_type": "code",
      "source": [
        "num1 = int(input('Insira um número: '))\n",
        "num2 = int(input('Insira outro número: '))\n",
        "\n",
        "print(num1 + num2)"
      ],
      "metadata": {
        "colab": {
          "base_uri": "https://localhost:8080/"
        },
        "id": "y3EiIrvURDtG",
        "outputId": "82893488-539f-473a-af17-84b28c7dab27"
      },
      "execution_count": null,
      "outputs": [
        {
          "output_type": "stream",
          "name": "stdout",
          "text": [
            "Insira um número: 10\n",
            "Insira outro número: 20\n",
            "30\n"
          ]
        }
      ]
    },
    {
      "cell_type": "code",
      "source": [
        "nota1 = 90\n",
        "nota2 = 80\n",
        "nota3 = 85\n",
        "\n",
        "media = (nota1 + nota2 + nota3)/3\n",
        "\n",
        "print(media)"
      ],
      "metadata": {
        "colab": {
          "base_uri": "https://localhost:8080/"
        },
        "id": "Rm1xNijMRp4y",
        "outputId": "9e568959-a72a-4be8-b01c-3c4049e5cca9"
      },
      "execution_count": null,
      "outputs": [
        {
          "output_type": "stream",
          "name": "stdout",
          "text": [
            "85.0\n"
          ]
        }
      ]
    },
    {
      "cell_type": "code",
      "source": [],
      "metadata": {
        "id": "FX5ULwiwR8IK"
      },
      "execution_count": null,
      "outputs": []
    },
    {
      "cell_type": "markdown",
      "source": [
        "nível 2"
      ],
      "metadata": {
        "id": "q3Ft9hrdStXr"
      }
    },
    {
      "cell_type": "code",
      "source": [
        "nome = input('Insira seu nome: ')\n",
        "sobrenome = input('Insira seu sobrenome: ')\n",
        "\n",
        "print('Olá, ' + nome + ' ' + sobrenome)"
      ],
      "metadata": {
        "colab": {
          "base_uri": "https://localhost:8080/"
        },
        "id": "1lUhwHK1Svdf",
        "outputId": "59306efb-dce7-4da3-80b5-61114333d8a7"
      },
      "execution_count": null,
      "outputs": [
        {
          "output_type": "stream",
          "name": "stdout",
          "text": [
            "Insira seu nome: Matheus\n",
            "Insira seu sobrenome: Nunes\n",
            "Olá, Matheus Nunes\n"
          ]
        }
      ]
    },
    {
      "cell_type": "code",
      "source": [
        "idade = int(input('Insira sua idade: '))\n",
        "\n",
        "print(idade + 10)"
      ],
      "metadata": {
        "colab": {
          "base_uri": "https://localhost:8080/"
        },
        "id": "XWUJkFblUR_Z",
        "outputId": "4fdfe932-7678-441b-80bb-f2a590316714"
      },
      "execution_count": null,
      "outputs": [
        {
          "output_type": "stream",
          "name": "stdout",
          "text": [
            "Insira sua idade: 18\n",
            "28\n"
          ]
        }
      ]
    },
    {
      "cell_type": "code",
      "source": [
        "temp1 = float(input('Insira a temperatura em graus Celsius: '))\n",
        "\n",
        "temp2 = (temp1 * 9/5) + 32\n",
        "\n",
        "print(temp2)"
      ],
      "metadata": {
        "colab": {
          "base_uri": "https://localhost:8080/"
        },
        "id": "BjYCcJEvUtHH",
        "outputId": "2f3a6c41-2229-48f1-ea7c-6c8a59dbfe1c"
      },
      "execution_count": null,
      "outputs": [
        {
          "output_type": "stream",
          "name": "stdout",
          "text": [
            "Insira a temperatura em graus Celsius: 20\n",
            "68.0\n"
          ]
        }
      ]
    },
    {
      "cell_type": "code",
      "source": [
        "altura = float(input('Insira a altura do retângulo: '))\n",
        "largura = float(input('Insira a largura do retângulo: '))\n",
        "\n",
        "area = altura * largura\n",
        "\n",
        "print(area)"
      ],
      "metadata": {
        "colab": {
          "base_uri": "https://localhost:8080/"
        },
        "id": "GD-U5Gh5VZpb",
        "outputId": "524a549f-88d0-466a-f12d-2c98a561637f"
      },
      "execution_count": null,
      "outputs": [
        {
          "output_type": "stream",
          "name": "stdout",
          "text": [
            "Insira a altura do retângulo: 2\n",
            "Insira a largura do retângulo: 4\n",
            "8.0\n"
          ]
        }
      ]
    },
    {
      "cell_type": "markdown",
      "source": [
        "nível 3"
      ],
      "metadata": {
        "id": "DGo-hUgeXI98"
      }
    },
    {
      "cell_type": "code",
      "source": [
        "idade = int(input('Insira sua idade: '))\n",
        "\n",
        "if idade >= 18:\n",
        "  print('Maior de idade!')\n",
        "else:\n",
        "  print('Menor de idade, otaro')"
      ],
      "metadata": {
        "colab": {
          "base_uri": "https://localhost:8080/"
        },
        "id": "YGPVqKtYXLKB",
        "outputId": "2c7cf338-1bb5-4491-d950-75c621a626ca"
      },
      "execution_count": null,
      "outputs": [
        {
          "output_type": "stream",
          "name": "stdout",
          "text": [
            "Insira sua idade: 16\n",
            "Menor de idade, otaro\n"
          ]
        }
      ]
    },
    {
      "cell_type": "code",
      "source": [
        "num1 = int(input('Insira um número: '))\n",
        "\n",
        "if num1 % 2 == 0:\n",
        "  print('O número é par!')\n",
        "else:\n",
        "  print('O número é ímpar!')"
      ],
      "metadata": {
        "colab": {
          "base_uri": "https://localhost:8080/"
        },
        "id": "u7LE6EHtYIXQ",
        "outputId": "2f799ad0-06c9-497b-839b-b16b386e33a6"
      },
      "execution_count": null,
      "outputs": [
        {
          "output_type": "stream",
          "name": "stdout",
          "text": [
            "Insira um número: 56\n",
            "O número é par!\n"
          ]
        }
      ]
    },
    {
      "cell_type": "code",
      "source": [
        "num1 = int(input('Insira um número: '))\n",
        "\n",
        "if num1 > 0:\n",
        "  print('O número é positivo!')\n",
        "elif num1 < 0:\n",
        "  print('O número é negativo!')\n",
        "else:\n",
        "  print('O número é zero!')"
      ],
      "metadata": {
        "colab": {
          "base_uri": "https://localhost:8080/"
        },
        "id": "2SfaImEFh8Mh",
        "outputId": "9e86fe27-77d2-4098-fba8-d223b2bfc083"
      },
      "execution_count": null,
      "outputs": [
        {
          "output_type": "stream",
          "name": "stdout",
          "text": [
            "Insira um número: -5\n",
            "O número é negativo!\n"
          ]
        }
      ]
    },
    {
      "cell_type": "markdown",
      "source": [
        "nível 4"
      ],
      "metadata": {
        "id": "HrI6cVi2i0IW"
      }
    },
    {
      "cell_type": "code",
      "source": [
        "idade = int(input('Insira sua idade: '))\n",
        "\n",
        "if idade <= 12:\n",
        "  print('É criança!')\n",
        "elif idade < 18:\n",
        "  print('É adolescente!')\n",
        "elif idade >= 18:\n",
        "  print('É adulto!')\n",
        "elif idade >= 65:\n",
        "  print('É idoso!')"
      ],
      "metadata": {
        "colab": {
          "base_uri": "https://localhost:8080/"
        },
        "id": "p53Ps8u4i11a",
        "outputId": "2c3eeacc-22a9-4269-d45f-e8ac440c86e7"
      },
      "execution_count": null,
      "outputs": [
        {
          "output_type": "stream",
          "name": "stdout",
          "text": [
            "Insira sua idade: 70\n",
            "É adulto!\n"
          ]
        }
      ]
    },
    {
      "cell_type": "code",
      "source": [
        "#A para >=9, B para >=8, C para >=7, D para >=6 e F para abaixo disso\n",
        "nota = float(input('Insira sua nota: '))\n",
        "\n",
        "if nota >= 9:\n",
        "  print('A!')\n",
        "elif nota >= 8:\n",
        "  print('B!')\n",
        "elif nota >= 7:\n",
        "  print('C!')\n",
        "elif nota >= 6:\n",
        "  print('D!')\n",
        "else:\n",
        "  print('F!')"
      ],
      "metadata": {
        "colab": {
          "base_uri": "https://localhost:8080/"
        },
        "id": "buY44bXAoOip",
        "outputId": "f5842063-1ef0-4ea1-8af4-c80740794fb9"
      },
      "execution_count": null,
      "outputs": [
        {
          "output_type": "stream",
          "name": "stdout",
          "text": [
            "Insira sua nota: 4\n",
            "F!\n"
          ]
        }
      ]
    },
    {
      "cell_type": "code",
      "source": [
        "#Abaixo do peso:IMC < 18,5, Peso normal: 18,5 ≤ IM, Sobrepeso: 25 ≤, Obesidade grObesidade grau 1:30 ≤ Eu,  ObesObesidade grau 2: 35 ≤ IM, Obesidade grau 3 (grave): IMC\n",
        "peso = float(input('Insira seu peso: '))\n",
        "altura - float(input('Insira sua altura: '))\n",
        "\n",
        "imc = peso/altura * altura\n",
        "\n",
        "if imc < 18.5:\n",
        "  print('Abaixo do peso!')\n",
        "elif imc >= 18.5:\n",
        "  print('Peso normal!')\n",
        "elif imc >= 25:\n",
        "  print('Sobrepeso!')\n",
        "elif imc >= 30:\n",
        "  print('Obesidade grau 1!')\n",
        "elif imc >= 35:\n",
        "  print('Obesidade grau 2!')\n",
        "else:\n",
        "  print('Obesidade grau 3!')"
      ],
      "metadata": {
        "colab": {
          "base_uri": "https://localhost:8080/"
        },
        "id": "ZG_RuLZ_qCU_",
        "outputId": "124ba246-21f8-4541-f9d1-2762a610fb98"
      },
      "execution_count": null,
      "outputs": [
        {
          "output_type": "stream",
          "name": "stdout",
          "text": [
            "Insira seu peso: 58\n",
            "Insira sua altura: 1.60\n",
            "Peso normal!\n"
          ]
        }
      ]
    },
    {
      "cell_type": "code",
      "source": [
        "num1 = float(input('Insira um número: '))\n",
        "num2 = float(input('Insira outro número: '))\n",
        "operação = input('Insira a operação: ')\n",
        "\n",
        "if operação == '+':\n",
        "  print(num1 + num2)\n",
        "elif operação == '-':\n",
        "  print(num1 - num2)\n",
        "elif operação == '*':\n",
        "  print(num1 * num2)\n",
        "elif operação == '/':\n",
        "  print(num1 / num2)\n",
        "else:\n",
        "  print('Operação inválida!')"
      ],
      "metadata": {
        "colab": {
          "base_uri": "https://localhost:8080/"
        },
        "id": "1_mkquEnQgTN",
        "outputId": "1d5376ea-c271-41f3-9613-1fdd129b30a2"
      },
      "execution_count": 2,
      "outputs": [
        {
          "output_type": "stream",
          "name": "stdout",
          "text": [
            "Insira um número: 5.5\n",
            "Insira outro número: 6.3\n",
            "Insira a operação: *\n",
            "34.65\n"
          ]
        }
      ]
    }
  ]
}